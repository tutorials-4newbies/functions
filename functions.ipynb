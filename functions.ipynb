{
 "cells": [
  {
   "cell_type": "markdown",
   "metadata": {},
   "source": [
    "# Variables, pointers, memory, functions"
   ]
  },
  {
   "cell_type": "markdown",
   "metadata": {
    "jupyter": {
     "source_hidden": true
    }
   },
   "source": [
    "## Variables \n",
    "Referencing places in memory\n",
    "![Pointers pointing to a place in memory](https://upload.wikimedia.org/wikipedia/commons/b/b4/Pointers.svg)\n",
    "\n",
    "What happens when we code in python:\n",
    "\n",
    "name = 'alon'\n",
    "???\n"
   ]
  },
  {
   "cell_type": "markdown",
   "metadata": {},
   "source": [
    "Memory is allocation to hold the string (actually an array of chars) - memory has a unique address\n"
   ]
  },
  {
   "cell_type": "code",
   "execution_count": 5,
   "metadata": {},
   "outputs": [
    {
     "name": "stdout",
     "output_type": "stream",
     "text": [
      "drorsoft\n"
     ]
    }
   ],
   "source": [
    "name = 'drorsoft'\n",
    "print(name)"
   ]
  },
  {
   "cell_type": "markdown",
   "metadata": {},
   "source": [
    "## Variables "
   ]
  },
  {
   "cell_type": "markdown",
   "metadata": {},
   "source": [
    "Some languages have different syntax for different types of variables allowing us to declare if they would change\n",
    "\n",
    "For example in javascript\n",
    "```javascript\n",
    "var  whatever = 'alon' // can be changed whatever (the old way)\n",
    "let changeableOnPurpose = 42 // Something we plan to change\n",
    "const dontChangeMeOnMistake = 'dror' //you usually would want that\n",
    "\n",
    "```\n",
    "\n",
    "Other languages have different ways of indicating how we would like to treat a variable\n",
    "\n",
    "for example in Java\n",
    "```java\n",
    "private String name = 'alon'; // can't be accessed outside the class \n",
    "public String surname = 'nisser'; // part of the public \"face\"\n",
    "public int customer_age = 30; // this can be only an int\n",
    "\n",
    "```\n",
    "\n",
    "\n",
    "But not in python. it does have hints and conventions\n",
    "\n",
    "```python\n",
    "\n",
    "_dont_access_me = 'private variable starts with _ underscore'\n",
    "MAGIC_NUMBER = 42 # Constants capitalized\n",
    "```\n",
    "\n",
    "But not enforced - see the example:"
   ]
  },
  {
   "cell_type": "code",
   "execution_count": 6,
   "metadata": {},
   "outputs": [
    {
     "name": "stdout",
     "output_type": "stream",
     "text": [
      "42\n",
      "84\n"
     ]
    }
   ],
   "source": [
    "MAGIC_NUMBER  = 42\n",
    "print(MAGIC_NUMBER)\n",
    "\n",
    "MAGIC_NUMBER = 84\n",
    "print(MAGIC_NUMBER)"
   ]
  },
  {
   "cell_type": "markdown",
   "metadata": {},
   "source": [
    "# So what variables are? \n",
    "Basically names for addresses for memory chunks holding our data, let's look"
   ]
  },
  {
   "cell_type": "code",
   "execution_count": 10,
   "metadata": {},
   "outputs": [
    {
     "name": "stdout",
     "output_type": "stream",
     "text": [
      "139646233413872\n",
      "94170422028704\n",
      "z: 139646233413872\n"
     ]
    }
   ],
   "source": [
    "x = 'alon'\n",
    "print(id(x))\n",
    "\n",
    "y = 22\n",
    "print(id(y))\n",
    "\n",
    "z = x\n",
    "\n",
    "print(f'z: {id(z)}')"
   ]
  },
  {
   "cell_type": "code",
   "execution_count": 13,
   "metadata": {},
   "outputs": [
    {
     "name": "stdout",
     "output_type": "stream",
     "text": [
      "tamir\n",
      "139646232731568\n",
      "139646233413872\n"
     ]
    }
   ],
   "source": [
    "x = 'tamir'\n",
    "print(x)\n",
    "print(id(x))\n",
    "print(id(z))"
   ]
  },
  {
   "cell_type": "code",
   "execution_count": 17,
   "metadata": {},
   "outputs": [
    {
     "name": "stdout",
     "output_type": "stream",
     "text": [
      "139646233040064\n",
      "139646233072000\n"
     ]
    }
   ],
   "source": [
    "l = [1,2,3]\n",
    "z = [1,2,3]\n",
    "print(id(l))\n",
    "print(id(z))\n",
    "l.append(4)"
   ]
  },
  {
   "cell_type": "code",
   "execution_count": 18,
   "metadata": {},
   "outputs": [
    {
     "data": {
      "text/plain": [
       "False"
      ]
     },
     "execution_count": 18,
     "metadata": {},
     "output_type": "execute_result"
    }
   ],
   "source": [
    "t = (1,2,3)\n",
    "x = (1,2,3)\n",
    "id(t) == id(x)"
   ]
  },
  {
   "cell_type": "code",
   "execution_count": 19,
   "metadata": {},
   "outputs": [
    {
     "name": "stdout",
     "output_type": "stream",
     "text": [
      "139646307538032\n",
      "139646232257072\n",
      "True\n"
     ]
    }
   ],
   "source": [
    "# Pecuilar things\n",
    "\n",
    "x = 'big'\n",
    "print(id(x))\n",
    "x = 'panda'\n",
    "print(id(x))\n",
    "\n",
    "# Does it stay the same?\n",
    "\n",
    "y = 'panda'\n",
    "print(id(x)== id(y)) \n",
    "# why?"
   ]
  },
  {
   "cell_type": "code",
   "execution_count": 21,
   "metadata": {},
   "outputs": [
    {
     "name": "stdout",
     "output_type": "stream",
     "text": [
      "139646232237376\n",
      "139646233012928\n"
     ]
    }
   ],
   "source": [
    "# Lets try arrays\n",
    "\n",
    "l = [1,2,3,4,5]\n",
    "print(id(l))\n",
    "\n",
    "n = [1,2,3,4,5]\n",
    "print(id(n))\n",
    "\n",
    "# Why the difference?"
   ]
  },
  {
   "cell_type": "code",
   "execution_count": 22,
   "metadata": {},
   "outputs": [
    {
     "name": "stdout",
     "output_type": "stream",
     "text": [
      "[1, 2, 3, 4, 5, 6]\n"
     ]
    }
   ],
   "source": [
    "another = l\n",
    "another.append(6)\n",
    "print(l)\n",
    "# Why?"
   ]
  },
  {
   "cell_type": "code",
   "execution_count": 23,
   "metadata": {},
   "outputs": [
    {
     "name": "stdout",
     "output_type": "stream",
     "text": [
      "cat\n",
      "CAT\n"
     ]
    }
   ],
   "source": [
    "x = 'cat'\n",
    "y = x\n",
    "y = y.upper()\n",
    "print(x)\n",
    "print(y)"
   ]
  },
  {
   "cell_type": "markdown",
   "metadata": {},
   "source": [
    "## Passing by value or Passing by reference"
   ]
  },
  {
   "cell_type": "code",
   "execution_count": 25,
   "metadata": {},
   "outputs": [
    {
     "name": "stdout",
     "output_type": "stream",
     "text": [
      "[1, 2, 3]\n",
      "[1, 2, 3, 4]\n"
     ]
    }
   ],
   "source": [
    "import copy\n",
    "a_list = [1,2,3]\n",
    "another_list = copy.copy(a_list)\n",
    "another_list.append(4)\n",
    "print(a_list)\n",
    "print(another_list)"
   ]
  },
  {
   "cell_type": "markdown",
   "metadata": {},
   "source": [
    "## Variables are pointers in memory, when we set another as pointer to l. when we change another, we actualy do\n",
    "\n",
    ">> another => l => l.append(6)"
   ]
  },
  {
   "cell_type": "markdown",
   "metadata": {},
   "source": [
    "## Types (Dynamic and static) and type coercing"
   ]
  },
  {
   "cell_type": "code",
   "execution_count": 29,
   "metadata": {},
   "outputs": [
    {
     "name": "stdout",
     "output_type": "stream",
     "text": [
      "<class 'str'>\n",
      "<class 'int'>\n",
      "<class 'float'>\n",
      "True\n",
      "False\n"
     ]
    }
   ],
   "source": [
    "print(type('1'))\n",
    "print(type(1))\n",
    "print(type(1.0))\n",
    "\n",
    "x = 1.0\n",
    "y = 1\n",
    "\n",
    "print(x == y)\n",
    "# Why?\n",
    "\n",
    "print('1' == 1)"
   ]
  },
  {
   "cell_type": "code",
   "execution_count": 31,
   "metadata": {},
   "outputs": [
    {
     "data": {
      "text/plain": [
       "False"
      ]
     },
     "execution_count": 31,
     "metadata": {},
     "output_type": "execute_result"
    }
   ],
   "source": [
    "a = 1\n",
    "b = 2\n",
    "\n",
    "a is b"
   ]
  },
  {
   "cell_type": "code",
   "execution_count": 32,
   "metadata": {},
   "outputs": [
    {
     "data": {
      "text/plain": [
       "False"
      ]
     },
     "execution_count": 32,
     "metadata": {},
     "output_type": "execute_result"
    }
   ],
   "source": [
    "l1 = [1,2,3]\n",
    "l2 = [1,2,3]\n",
    "l1 is l2"
   ]
  },
  {
   "cell_type": "code",
   "execution_count": 33,
   "metadata": {},
   "outputs": [
    {
     "data": {
      "text/plain": [
       "True"
      ]
     },
     "execution_count": 33,
     "metadata": {},
     "output_type": "execute_result"
    }
   ],
   "source": [
    "l1 == l2"
   ]
  },
  {
   "cell_type": "code",
   "execution_count": null,
   "metadata": {},
   "outputs": [],
   "source": []
  },
  {
   "cell_type": "markdown",
   "metadata": {},
   "source": [
    "# Functions and variables\n",
    "\n",
    "when functions get variables from the outside -it's called arguments"
   ]
  },
  {
   "cell_type": "code",
   "execution_count": 34,
   "metadata": {},
   "outputs": [
    {
     "data": {
      "text/plain": [
       "139646232305872"
      ]
     },
     "execution_count": 34,
     "metadata": {},
     "output_type": "execute_result"
    }
   ],
   "source": [
    "def do_upper(name: str)-> str:     \n",
    "    name = name.upper()\n",
    "    return name\n",
    "id(do_upper)"
   ]
  },
  {
   "cell_type": "code",
   "execution_count": 35,
   "metadata": {},
   "outputs": [
    {
     "data": {
      "text/plain": [
       "'KATHULU'"
      ]
     },
     "execution_count": 35,
     "metadata": {},
     "output_type": "execute_result"
    }
   ],
   "source": [
    "do_upper('kathulu')"
   ]
  },
  {
   "cell_type": "code",
   "execution_count": 38,
   "metadata": {},
   "outputs": [
    {
     "name": "stdout",
     "output_type": "stream",
     "text": [
      "KATHULU\n",
      "kathulu\n"
     ]
    }
   ],
   "source": [
    "x = 'kathulu'\n",
    "print(do_upper(x))\n",
    "print(x)"
   ]
  },
  {
   "cell_type": "code",
   "execution_count": 37,
   "metadata": {},
   "outputs": [
    {
     "name": "stdout",
     "output_type": "stream",
     "text": [
      "[0, 2, 2]\n"
     ]
    }
   ],
   "source": [
    "def do_append(a_list:list):\n",
    "    a_list.append(2)\n",
    "\n",
    "a_list = [0,2]\n",
    "do_append(a_list)\n",
    "print(a_list)\n"
   ]
  },
  {
   "cell_type": "code",
   "execution_count": 42,
   "metadata": {},
   "outputs": [
    {
     "name": "stdout",
     "output_type": "stream",
     "text": [
      "1\n",
      "42\n"
     ]
    },
    {
     "ename": "NameError",
     "evalue": "name 'another_thingy_i_didnt_use' is not defined",
     "output_type": "error",
     "traceback": [
      "\u001b[0;31m---------------------------------------------------------------------------\u001b[0m",
      "\u001b[0;31mNameError\u001b[0m                                 Traceback (most recent call last)",
      "\u001b[0;32m<ipython-input-42-4ad664346483>\u001b[0m in \u001b[0;36m<module>\u001b[0;34m\u001b[0m\n\u001b[1;32m      7\u001b[0m \u001b[0;34m\u001b[0m\u001b[0m\n\u001b[1;32m      8\u001b[0m \u001b[0mprint\u001b[0m\u001b[0;34m(\u001b[0m\u001b[0mx\u001b[0m\u001b[0;34m)\u001b[0m\u001b[0;34m\u001b[0m\u001b[0;34m\u001b[0m\u001b[0m\n\u001b[0;32m----> 9\u001b[0;31m \u001b[0mprint\u001b[0m\u001b[0;34m(\u001b[0m\u001b[0manother_thingy_i_didnt_use\u001b[0m\u001b[0;34m)\u001b[0m\u001b[0;34m\u001b[0m\u001b[0;34m\u001b[0m\u001b[0m\n\u001b[0m",
      "\u001b[0;31mNameError\u001b[0m: name 'another_thingy_i_didnt_use' is not defined"
     ]
    }
   ],
   "source": [
    "x = 42\n",
    "def do_things():\n",
    "    another_thingy_i_didnt_use = 1\n",
    "    print(another_thingy_i_didnt_use)\n",
    "    \n",
    "do_things()\n",
    "\n",
    "print(x)\n",
    "print(another_thingy_i_didnt_use)"
   ]
  },
  {
   "cell_type": "code",
   "execution_count": 46,
   "metadata": {},
   "outputs": [
    {
     "data": {
      "text/plain": [
       "139646232305872"
      ]
     },
     "execution_count": 46,
     "metadata": {},
     "output_type": "execute_result"
    }
   ],
   "source": [
    "def applier(func, var):\n",
    "    return func(var)\n",
    "\n",
    "id(do_upper)"
   ]
  },
  {
   "cell_type": "code",
   "execution_count": null,
   "metadata": {},
   "outputs": [],
   "source": [
    "# Passing functions as variables"
   ]
  },
  {
   "cell_type": "markdown",
   "metadata": {},
   "source": [
    "## Pointers\n",
    "What is a pointer?\n",
    "\n",
    "![Pointers pointing to a place in memory](https://upload.wikimedia.org/wikipedia/commons/b/b4/Pointers.svg)\n",
    "\n",
    "While pointers are complicated, We do know things that are pointers to common objects in memory: variables"
   ]
  }
 ],
 "metadata": {
  "kernelspec": {
   "display_name": "Python 3",
   "language": "python",
   "name": "python3"
  },
  "language_info": {
   "codemirror_mode": {
    "name": "ipython",
    "version": 3
   },
   "file_extension": ".py",
   "mimetype": "text/x-python",
   "name": "python",
   "nbconvert_exporter": "python",
   "pygments_lexer": "ipython3",
   "version": "3.8.1"
  }
 },
 "nbformat": 4,
 "nbformat_minor": 4
}
