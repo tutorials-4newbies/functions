{
 "cells": [
  {
   "cell_type": "markdown",
   "metadata": {},
   "source": [
    "# Variables, pointers, memory, functions"
   ]
  },
  {
   "cell_type": "markdown",
   "metadata": {
    "jupyter": {
     "source_hidden": true
    }
   },
   "source": [
    "## Variables \n",
    "Referencing places in memory\n",
    "![Pointers pointing to a place in memory](https://upload.wikimedia.org/wikipedia/commons/b/b4/Pointers.svg)\n",
    "\n",
    "What happens when we code in python:\n",
    "\n",
    "name = 'alon'\n",
    "???\n"
   ]
  },
  {
   "cell_type": "markdown",
   "metadata": {},
   "source": [
    "Memory is allocation to hold the string (actually an array of chars) - memory has a unique address\n"
   ]
  },
  {
   "cell_type": "markdown",
   "metadata": {},
   "source": [
    "## Variables "
   ]
  },
  {
   "cell_type": "markdown",
   "metadata": {},
   "source": [
    "Some languages have different syntax for different types of variables allowing us to declare if they would change\n",
    "\n",
    "For example in javascript\n",
    "```javascript\n",
    "var  whatever = 'alon' // can be changed whatever (the old way)\n",
    "let changeableOnPurpose = 42 // Something we plan to change\n",
    "const dontChangeMeOnMistake = 'dror' //you usually would want that\n",
    "\n",
    "```\n",
    "\n",
    "Other languages have different ways of indicating how we would like to treat a variable\n",
    "\n",
    "for example in Java\n",
    "```java\n",
    "private String name = 'alon'; // can't be accessed outside the class \n",
    "public String surname = 'nisser'; // part of the public \"face\"\n",
    "int customer_age = 30; // this can be only an int\n",
    "\n",
    "```\n",
    "\n",
    "\n",
    "But not in python. it does have hints and conventions\n",
    "\n",
    "```python\n",
    "\n",
    "_dont_access_me = 'private variable starts with _ underscore'\n",
    "MAGIC_NUMBER = 42 # Constants capitalized\n",
    "```\n",
    "\n",
    "But not enforced - see the example:"
   ]
  },
  {
   "cell_type": "code",
   "execution_count": null,
   "metadata": {},
   "outputs": [],
   "source": [
    "MAGIC_NUMBER  = 42\n",
    "print(MAGIC_NUMBER)\n",
    "\n",
    "MAGIC_NUMBER = 84\n",
    "print(MAGIC_NUMBER)"
   ]
  },
  {
   "cell_type": "markdown",
   "metadata": {},
   "source": [
    "# So what variables are? \n",
    "Basically names for addresses for memory chunks holding our data, let's look"
   ]
  },
  {
   "cell_type": "code",
   "execution_count": null,
   "metadata": {},
   "outputs": [],
   "source": [
    "x = 'alon'\n",
    "print(id(x))\n",
    "\n",
    "y = 22\n",
    "print(id(y))\n",
    "\n",
    "z = x\n",
    "\n",
    "print(f'z: {id(z)}')"
   ]
  },
  {
   "cell_type": "code",
   "execution_count": null,
   "metadata": {},
   "outputs": [],
   "source": [
    "# Pecuilar things\n",
    "\n",
    "x = 'big'\n",
    "print(id(x))\n",
    "x = 'panda'\n",
    "print(id(x))\n",
    "\n",
    "# Does it stay the same?\n",
    "\n",
    "y = 'panda'\n",
    "print(id(x)== id(y)) \n",
    "# why?"
   ]
  },
  {
   "cell_type": "code",
   "execution_count": 5,
   "metadata": {},
   "outputs": [
    {
     "data": {
      "text/plain": [
       "140387320101568"
      ]
     },
     "execution_count": 5,
     "metadata": {},
     "output_type": "execute_result"
    }
   ],
   "source": [
    "# Lets try arrays\n",
    "\n",
    "l = [1,2,3,4,5]\n",
    "id(l)\n",
    "\n",
    "n = [1,2,3,4,5]\n",
    "id(n)\n",
    "\n",
    "# Why the difference?"
   ]
  },
  {
   "cell_type": "code",
   "execution_count": 6,
   "metadata": {},
   "outputs": [
    {
     "name": "stdout",
     "output_type": "stream",
     "text": [
      "[1, 2, 3, 4, 5, 6]\n"
     ]
    }
   ],
   "source": [
    "another = l\n",
    "another.append(6)\n",
    "print(l)\n",
    "# Why?"
   ]
  },
  {
   "cell_type": "markdown",
   "metadata": {},
   "source": [
    "## Variables are pointers in memory, when we set another as pointer to l. when we change another, we actualy do\n",
    "\n",
    ">> another => l => l.append(6)"
   ]
  },
  {
   "cell_type": "markdown",
   "metadata": {},
   "source": [
    "## Types (Dynamic and static) and type coercing"
   ]
  },
  {
   "cell_type": "code",
   "execution_count": 2,
   "metadata": {},
   "outputs": [
    {
     "name": "stdout",
     "output_type": "stream",
     "text": [
      "<class 'str'>\n",
      "<class 'int'>\n",
      "<class 'float'>\n",
      "True\n",
      "False\n"
     ]
    }
   ],
   "source": [
    "print(type('1'))\n",
    "print(type(1))\n",
    "print(type(1.0))\n",
    "\n",
    "x = 1.0\n",
    "y = 1\n",
    "\n",
    "print(x == y)\n",
    "# Why?\n",
    "\n",
    "print('1' == 1)"
   ]
  },
  {
   "cell_type": "markdown",
   "metadata": {},
   "source": [
    "# Functions and variables\n",
    "\n",
    "when functions get variables from the outside -it's called arguments"
   ]
  },
  {
   "cell_type": "code",
   "execution_count": 9,
   "metadata": {},
   "outputs": [
    {
     "data": {
      "text/plain": [
       "'KATHULU'"
      ]
     },
     "execution_count": 9,
     "metadata": {},
     "output_type": "execute_result"
    }
   ],
   "source": [
    "def do_upper(name: str)-> str: \n",
    "    return name.upper()\n",
    "do_upper('kathulu')"
   ]
  },
  {
   "cell_type": "code",
   "execution_count": null,
   "metadata": {},
   "outputs": [],
   "source": [
    "# Passing functions as variables"
   ]
  },
  {
   "cell_type": "markdown",
   "metadata": {},
   "source": [
    "## Pointers\n",
    "What is a pointer?\n",
    "\n",
    "![Pointers pointing to a place in memory](https://upload.wikimedia.org/wikipedia/commons/b/b4/Pointers.svg)\n",
    "\n",
    "While pointers are complicated, We do know things that are pointers to common objects in memory: variables"
   ]
  }
 ],
 "metadata": {
  "kernelspec": {
   "display_name": "Python 3",
   "language": "python",
   "name": "python3"
  },
  "language_info": {
   "codemirror_mode": {
    "name": "ipython",
    "version": 3
   },
   "file_extension": ".py",
   "mimetype": "text/x-python",
   "name": "python",
   "nbconvert_exporter": "python",
   "pygments_lexer": "ipython3",
   "version": "3.8.1"
  }
 },
 "nbformat": 4,
 "nbformat_minor": 4
}
